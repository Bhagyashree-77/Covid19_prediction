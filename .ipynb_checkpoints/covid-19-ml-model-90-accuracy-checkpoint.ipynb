{
 "cells": [
  {
   "cell_type": "markdown",
   "metadata": {},
   "source": [
    "# Introductıon\n",
    "* In this notebook i will create a ML model to predict death situation of covid 19."
   ]
  },
  {
   "cell_type": "markdown",
   "metadata": {},
   "source": [
    "### The notebook includes:\n",
    "* Data Importing\n",
    "* Data Preprocessing\n",
    "* Data Preparing & Cleaning\n",
    "* Missing Value Analysis\n",
    "* Data Visualization\n",
    "* Future Selection\n",
    "* Creating Model\n",
    "* Model Analysis\n",
    "* Improving Model\n",
    "* Solving Imbalance Dataset Problem With Undersampling"
   ]
  },
  {
   "cell_type": "code",
   "execution_count": null,
   "metadata": {
    "execution": {
     "iopub.execute_input": "2022-12-08T18:11:40.023923Z",
     "iopub.status.busy": "2022-12-08T18:11:40.022687Z",
     "iopub.status.idle": "2022-12-08T18:11:40.839605Z",
     "shell.execute_reply": "2022-12-08T18:11:40.837409Z",
     "shell.execute_reply.started": "2022-12-08T18:11:40.023713Z"
    }
   },
   "outputs": [],
   "source": [
    "import pandas as pd\n",
    "import numpy as np\n",
    "import matplotlib.pyplot as plt\n",
    "import seaborn as sns\n",
    "import warnings\n",
    "warnings.filterwarnings(\"ignore\")"
   ]
  },
  {
   "cell_type": "markdown",
   "metadata": {
    "execution": {
     "iopub.execute_input": "2022-12-08T15:22:38.109187Z",
     "iopub.status.busy": "2022-12-08T15:22:38.108434Z",
     "iopub.status.idle": "2022-12-08T15:22:38.121459Z",
     "shell.execute_reply": "2022-12-08T15:22:38.119817Z",
     "shell.execute_reply.started": "2022-12-08T15:22:38.109135Z"
    }
   },
   "source": [
    "# Abot The Dataset\n",
    "#### This dataset contains an enormous number of anonymized patient-related information including pre-conditions. The raw dataset consists of 21 unique features and 1,048,576 unique patients. In the Boolean features, 1 means \"yes\" and 2 means \"no\". values as 97 and 99 are missing data.\n",
    "\n",
    "* sex: female or male\n",
    "* age: of the patient.\n",
    "* classification: covid test findings. Values 1-3 mean that the patient was diagnosed with covid in different\n",
    "* degrees. 4 or higher means that the patient is not a carrier of covid or that the test is inconclusive.\n",
    "* patient type: hospitalized or not hospitalized.\n",
    "* pneumonia: whether the patient already have air sacs inflammation or not.\n",
    "* pregnancy: whether the patient is pregnant or not.\n",
    "* diabetes: whether the patient has diabetes or not.\n",
    "* copd: Indicates whether the patient has Chronic obstructive pulmonary disease or not.\n",
    "* asthma: whether the patient has asthma or not.\n",
    "* inmsupr: whether the patient is immunosuppressed or not.\n",
    "* hypertension: whether the patient has hypertension or not.\n",
    "* cardiovascular: whether the patient has heart or blood vessels related disease.\n",
    "* renal chronic: whether the patient has chronic renal disease or not.\n",
    "* other disease: whether the patient has other disease or not.\n",
    "* obesity: whether the patient is obese or not.\n",
    "* tobacco: whether the patient is a tobacco user.\n",
    "* usmr: Indicates whether the patient treated medical units of the first, second or third level.\n",
    "* medical unit: type of institution of the National Health System that provided the care.\n",
    "* intubed: whether the patient was connected to the ventilator.\n",
    "* icu: Indicates whether the patient had been admitted to an Intensive Care Unit.\n",
    "* death: indicates whether the patient died or recovered."
   ]
  },
  {
   "cell_type": "markdown",
   "metadata": {},
   "source": [
    "# Overview Dataset"
   ]
  },
  {
   "cell_type": "code",
   "execution_count": null,
   "metadata": {
    "execution": {
     "iopub.execute_input": "2022-12-08T18:11:40.84405Z",
     "iopub.status.busy": "2022-12-08T18:11:40.843501Z",
     "iopub.status.idle": "2022-12-08T18:11:43.659892Z",
     "shell.execute_reply": "2022-12-08T18:11:43.65876Z",
     "shell.execute_reply.started": "2022-12-08T18:11:40.844Z"
    }
   },
   "outputs": [],
   "source": [
    "df = pd.read_csv(\"/kaggle/input/covid19-dataset/Covid Data.csv\")\n",
    "print(\"Shape of df :\",df.shape)\n",
    "df.head()"
   ]
  },
  {
   "cell_type": "code",
   "execution_count": null,
   "metadata": {
    "execution": {
     "iopub.execute_input": "2022-12-08T18:11:43.662164Z",
     "iopub.status.busy": "2022-12-08T18:11:43.661432Z",
     "iopub.status.idle": "2022-12-08T18:11:43.830207Z",
     "shell.execute_reply": "2022-12-08T18:11:43.828978Z",
     "shell.execute_reply.started": "2022-12-08T18:11:43.662119Z"
    }
   },
   "outputs": [],
   "source": [
    "df.info()"
   ]
  },
  {
   "cell_type": "code",
   "execution_count": null,
   "metadata": {
    "execution": {
     "iopub.execute_input": "2022-12-08T18:11:43.83408Z",
     "iopub.status.busy": "2022-12-08T18:11:43.833237Z",
     "iopub.status.idle": "2022-12-08T18:11:43.926292Z",
     "shell.execute_reply": "2022-12-08T18:11:43.925351Z",
     "shell.execute_reply.started": "2022-12-08T18:11:43.834016Z"
    }
   },
   "outputs": [],
   "source": [
    "df.isna().sum().sum()"
   ]
  },
  {
   "cell_type": "markdown",
   "metadata": {},
   "source": [
    "* We have no NaN values but we will have missing values."
   ]
  },
  {
   "cell_type": "markdown",
   "metadata": {},
   "source": [
    "### Number of unique values by columns"
   ]
  },
  {
   "cell_type": "code",
   "execution_count": null,
   "metadata": {
    "execution": {
     "iopub.execute_input": "2022-12-08T18:11:43.928616Z",
     "iopub.status.busy": "2022-12-08T18:11:43.927849Z",
     "iopub.status.idle": "2022-12-08T18:11:44.172061Z",
     "shell.execute_reply": "2022-12-08T18:11:44.170794Z",
     "shell.execute_reply.started": "2022-12-08T18:11:43.928559Z"
    }
   },
   "outputs": [],
   "source": [
    "for i in df.columns:\n",
    "    print(i,\"=>\\t\",len(df[i].unique()))"
   ]
  },
  {
   "cell_type": "code",
   "execution_count": null,
   "metadata": {
    "execution": {
     "iopub.execute_input": "2022-12-08T18:11:44.173889Z",
     "iopub.status.busy": "2022-12-08T18:11:44.173519Z",
     "iopub.status.idle": "2022-12-08T18:11:44.260637Z",
     "shell.execute_reply": "2022-12-08T18:11:44.258844Z",
     "shell.execute_reply.started": "2022-12-08T18:11:44.173854Z"
    }
   },
   "outputs": [],
   "source": [
    "df.DATE_DIED.value_counts()"
   ]
  },
  {
   "cell_type": "code",
   "execution_count": null,
   "metadata": {
    "execution": {
     "iopub.execute_input": "2022-12-08T18:11:44.263615Z",
     "iopub.status.busy": "2022-12-08T18:11:44.26281Z",
     "iopub.status.idle": "2022-12-08T18:11:44.282429Z",
     "shell.execute_reply": "2022-12-08T18:11:44.280991Z",
     "shell.execute_reply.started": "2022-12-08T18:11:44.263574Z"
    }
   },
   "outputs": [],
   "source": [
    "df.PNEUMONIA.value_counts()"
   ]
  },
  {
   "cell_type": "markdown",
   "metadata": {},
   "source": [
    "### INFERENCE:\n",
    "* 1) We have some features that we expect them to have just 2 unique values but we see that these features have 3 or 4 unique values. For example the feature \"PNEUMONIA\" has 3 unique values (1,2,99) 99 represents NaN values. Hence we will just take the rows that includes 1 and 2 values.\n",
    "#### \n",
    "* 2) In \"DATE_DIED\" column, we have 971633 \"9999-99-99\" values which represent alive patients so i will take this feature as a \"DEATH\" that includes wether the patient died or not."
   ]
  },
  {
   "cell_type": "markdown",
   "metadata": {},
   "source": [
    "# Data Preprocessing"
   ]
  },
  {
   "cell_type": "markdown",
   "metadata": {},
   "source": [
    "### Getting rid of the missing values of features except \"INTUBED\", \"PREGNANT\", \"ICU\""
   ]
  },
  {
   "cell_type": "code",
   "execution_count": null,
   "metadata": {
    "execution": {
     "iopub.execute_input": "2022-12-08T18:11:44.285531Z",
     "iopub.status.busy": "2022-12-08T18:11:44.28418Z",
     "iopub.status.idle": "2022-12-08T18:11:45.851343Z",
     "shell.execute_reply": "2022-12-08T18:11:45.849917Z",
     "shell.execute_reply.started": "2022-12-08T18:11:44.285462Z"
    }
   },
   "outputs": [],
   "source": [
    "df = df[(df.PNEUMONIA == 1) | (df.PNEUMONIA == 2)]\n",
    "df = df[(df.DIABETES == 1) | (df.DIABETES == 2)]\n",
    "df = df[(df.COPD == 1) | (df.COPD == 2)]\n",
    "df = df[(df.ASTHMA == 1) | (df.ASTHMA == 2)]\n",
    "df = df[(df.INMSUPR == 1) | (df.INMSUPR == 2)]\n",
    "df = df[(df.HIPERTENSION == 1) | (df.HIPERTENSION == 2)]\n",
    "df = df[(df.OTHER_DISEASE == 1) | (df.OTHER_DISEASE == 2)]\n",
    "df = df[(df.CARDIOVASCULAR == 1) | (df.CARDIOVASCULAR == 2)]\n",
    "df = df[(df.OBESITY == 1) | (df.OBESITY == 2)]\n",
    "df = df[(df.RENAL_CHRONIC == 1) | (df.RENAL_CHRONIC == 2)]\n",
    "df = df[(df.TOBACCO == 1) | (df.TOBACCO == 2)]"
   ]
  },
  {
   "cell_type": "markdown",
   "metadata": {},
   "source": [
    "### Preaparing \"DATE_DIED\" column"
   ]
  },
  {
   "cell_type": "code",
   "execution_count": null,
   "metadata": {
    "execution": {
     "iopub.execute_input": "2022-12-08T18:11:45.85381Z",
     "iopub.status.busy": "2022-12-08T18:11:45.853369Z",
     "iopub.status.idle": "2022-12-08T18:11:46.305633Z",
     "shell.execute_reply": "2022-12-08T18:11:46.304005Z",
     "shell.execute_reply.started": "2022-12-08T18:11:45.853763Z"
    }
   },
   "outputs": [],
   "source": [
    "# If we have \"9999-99-99\" values that means this patient is alive.\n",
    "\n",
    "df[\"DEATH\"] = [2 if each==\"9999-99-99\" else 1 for each in df.DATE_DIED]"
   ]
  },
  {
   "cell_type": "markdown",
   "metadata": {},
   "source": [
    "### Pregnant-Sex Bar Plot"
   ]
  },
  {
   "cell_type": "code",
   "execution_count": null,
   "metadata": {
    "execution": {
     "iopub.execute_input": "2022-12-08T18:11:46.311699Z",
     "iopub.status.busy": "2022-12-08T18:11:46.310109Z",
     "iopub.status.idle": "2022-12-08T18:11:46.854872Z",
     "shell.execute_reply": "2022-12-08T18:11:46.853238Z",
     "shell.execute_reply.started": "2022-12-08T18:11:46.311652Z"
    }
   },
   "outputs": [],
   "source": [
    "plt.figure()\n",
    "ax = sns.countplot(df.SEX, hue = df.PREGNANT)\n",
    "for bars in ax.containers:\n",
    "    ax.bar_label(bars)\n",
    "plt.title(\"PREGNANCIES - SEX\",color=\"red\");"
   ]
  },
  {
   "cell_type": "markdown",
   "metadata": {},
   "source": [
    "* We see that all \"97\" values are for males and males can not be pregnant so we will convert 97 to 2."
   ]
  },
  {
   "cell_type": "code",
   "execution_count": null,
   "metadata": {
    "execution": {
     "iopub.execute_input": "2022-12-08T18:11:46.857228Z",
     "iopub.status.busy": "2022-12-08T18:11:46.85674Z",
     "iopub.status.idle": "2022-12-08T18:11:47.145883Z",
     "shell.execute_reply": "2022-12-08T18:11:47.144822Z",
     "shell.execute_reply.started": "2022-12-08T18:11:46.857179Z"
    }
   },
   "outputs": [],
   "source": [
    "# Converting process according to inference above\n",
    "df.PREGNANT = df.PREGNANT.replace(97,2)\n",
    "\n",
    "# Getting rid of the missing values\n",
    "df = df[(df.PREGNANT == 1) | (df.PREGNANT == 2)]"
   ]
  },
  {
   "cell_type": "markdown",
   "metadata": {},
   "source": [
    "### Missing value analysis of \"INTUBED\" feature"
   ]
  },
  {
   "cell_type": "code",
   "execution_count": null,
   "metadata": {
    "execution": {
     "iopub.execute_input": "2022-12-08T18:11:47.148212Z",
     "iopub.status.busy": "2022-12-08T18:11:47.147456Z",
     "iopub.status.idle": "2022-12-08T18:11:47.501144Z",
     "shell.execute_reply": "2022-12-08T18:11:47.499453Z",
     "shell.execute_reply.started": "2022-12-08T18:11:47.148165Z"
    }
   },
   "outputs": [],
   "source": [
    "ax = sns.countplot(df.INTUBED)\n",
    "plt.bar_label(ax.containers[0])\n",
    "plt.title(\"Count of Intubed\",color=\"red\");"
   ]
  },
  {
   "cell_type": "markdown",
   "metadata": {},
   "source": [
    "### Missing value analysis of \"ICU\" feature"
   ]
  },
  {
   "cell_type": "code",
   "execution_count": null,
   "metadata": {
    "execution": {
     "iopub.execute_input": "2022-12-08T18:11:47.503657Z",
     "iopub.status.busy": "2022-12-08T18:11:47.503136Z",
     "iopub.status.idle": "2022-12-08T18:11:47.86024Z",
     "shell.execute_reply": "2022-12-08T18:11:47.858766Z",
     "shell.execute_reply.started": "2022-12-08T18:11:47.5036Z"
    }
   },
   "outputs": [],
   "source": [
    "ax = sns.countplot(df.ICU)\n",
    "plt.bar_label(ax.containers[0])\n",
    "plt.title(\"Count of ICU\",color=\"red\");"
   ]
  },
  {
   "cell_type": "markdown",
   "metadata": {},
   "source": [
    "### Droping the columns\n",
    "* In \"INTUBED\" and \"ICU\" features there are too many missing values so i will drop them. Also we don't need \"DATE_DIED\" column anymore because we used this feature as a \"DEATH\" feature."
   ]
  },
  {
   "cell_type": "code",
   "execution_count": null,
   "metadata": {
    "execution": {
     "iopub.execute_input": "2022-12-08T18:11:47.862992Z",
     "iopub.status.busy": "2022-12-08T18:11:47.861823Z",
     "iopub.status.idle": "2022-12-08T18:11:47.934817Z",
     "shell.execute_reply": "2022-12-08T18:11:47.933599Z",
     "shell.execute_reply.started": "2022-12-08T18:11:47.862952Z"
    }
   },
   "outputs": [],
   "source": [
    "df.drop(columns=[\"INTUBED\",\"ICU\",\"DATE_DIED\"], inplace=True)"
   ]
  },
  {
   "cell_type": "markdown",
   "metadata": {},
   "source": [
    "### Number of unique values by columns "
   ]
  },
  {
   "cell_type": "code",
   "execution_count": null,
   "metadata": {
    "execution": {
     "iopub.execute_input": "2022-12-08T18:11:47.93833Z",
     "iopub.status.busy": "2022-12-08T18:11:47.937451Z",
     "iopub.status.idle": "2022-12-08T18:11:48.07275Z",
     "shell.execute_reply": "2022-12-08T18:11:48.071376Z",
     "shell.execute_reply.started": "2022-12-08T18:11:47.938275Z"
    }
   },
   "outputs": [],
   "source": [
    "for i in df.columns:\n",
    "    print(i,\"=>\\t\",len(df[i].unique()))"
   ]
  },
  {
   "cell_type": "markdown",
   "metadata": {},
   "source": [
    "* As we see, we have just one numeric feature which is called \"AGE\" the rest of them are categorical."
   ]
  },
  {
   "cell_type": "markdown",
   "metadata": {},
   "source": [
    "# Data Visualization"
   ]
  },
  {
   "cell_type": "code",
   "execution_count": null,
   "metadata": {
    "execution": {
     "iopub.execute_input": "2022-12-08T18:11:48.076155Z",
     "iopub.status.busy": "2022-12-08T18:11:48.07521Z",
     "iopub.status.idle": "2022-12-08T18:11:48.401735Z",
     "shell.execute_reply": "2022-12-08T18:11:48.400141Z",
     "shell.execute_reply.started": "2022-12-08T18:11:48.076107Z"
    }
   },
   "outputs": [],
   "source": [
    "ax = sns.countplot(df.DEATH,palette=sns.cubehelix_palette(2))\n",
    "plt.bar_label(ax.containers[0])\n",
    "plt.title(\"Death Distribution\", fontsize=18,color=\"red\");"
   ]
  },
  {
   "cell_type": "markdown",
   "metadata": {},
   "source": [
    "* The values are distributed unbalanced in target column. This will probably cause an imbalance problem. Nonetheless i want you to see the problem. Hence i will go ahead for now and if we meet this problem i will try to figure it out."
   ]
  },
  {
   "cell_type": "code",
   "execution_count": null,
   "metadata": {
    "execution": {
     "iopub.execute_input": "2022-12-08T18:11:48.407284Z",
     "iopub.status.busy": "2022-12-08T18:11:48.406367Z",
     "iopub.status.idle": "2022-12-08T18:11:49.445782Z",
     "shell.execute_reply": "2022-12-08T18:11:49.444399Z",
     "shell.execute_reply.started": "2022-12-08T18:11:48.407211Z"
    }
   },
   "outputs": [],
   "source": [
    "sns.histplot(x=df.AGE)\n",
    "plt.title(\"Age Distribution\", color=\"red\", fontsize=18);"
   ]
  },
  {
   "cell_type": "markdown",
   "metadata": {},
   "source": [
    "* Patients are roughly between 20-60 years old."
   ]
  },
  {
   "cell_type": "code",
   "execution_count": null,
   "metadata": {
    "execution": {
     "iopub.execute_input": "2022-12-08T18:11:49.448564Z",
     "iopub.status.busy": "2022-12-08T18:11:49.447994Z",
     "iopub.status.idle": "2022-12-08T18:11:49.832609Z",
     "shell.execute_reply": "2022-12-08T18:11:49.831204Z",
     "shell.execute_reply.started": "2022-12-08T18:11:49.448504Z"
    }
   },
   "outputs": [],
   "source": [
    "sns.boxplot(x=\"DEATH\", y=\"AGE\",data=df,palette=sns.color_palette([\"#2f4f4f\",\"#eedd82\"]))\n",
    "plt.title(\"Age-DEATH\",fontsize=18, color=\"red\");"
   ]
  },
  {
   "cell_type": "markdown",
   "metadata": {},
   "source": [
    "* The older patients are more likely to die compare to younger ones."
   ]
  },
  {
   "cell_type": "code",
   "execution_count": null,
   "metadata": {
    "execution": {
     "iopub.execute_input": "2022-12-08T18:11:49.836138Z",
     "iopub.status.busy": "2022-12-08T18:11:49.835136Z",
     "iopub.status.idle": "2022-12-08T18:11:50.422731Z",
     "shell.execute_reply": "2022-12-08T18:11:50.421715Z",
     "shell.execute_reply.started": "2022-12-08T18:11:49.836074Z"
    }
   },
   "outputs": [],
   "source": [
    "sns.boxplot(x=\"DEATH\", y=\"AGE\",hue=\"SEX\",data=df,palette=sns.color_palette([\"#2f4f4f\",\"#eedd82\"]))\n",
    "plt.title(\"Age-Death-Sex\",fontsize=18, color=\"red\")\n",
    "plt.legend(loc=\"best\");"
   ]
  },
  {
   "cell_type": "markdown",
   "metadata": {},
   "source": [
    "* The older patients are more likely to die compare to younger ones.\n",
    "* There is no serious difference between males and females in terms of average rate of patients."
   ]
  },
  {
   "cell_type": "code",
   "execution_count": null,
   "metadata": {
    "execution": {
     "iopub.execute_input": "2022-12-08T18:11:50.425074Z",
     "iopub.status.busy": "2022-12-08T18:11:50.42401Z",
     "iopub.status.idle": "2022-12-08T18:11:50.840902Z",
     "shell.execute_reply": "2022-12-08T18:11:50.838608Z",
     "shell.execute_reply.started": "2022-12-08T18:11:50.425031Z"
    }
   },
   "outputs": [],
   "source": [
    "sns.countplot(df.SEX,hue=df.DEATH, palette=sns.cubehelix_palette(2))\n",
    "plt.title(\"Sex-Death\",fontsize=18, color=\"red\")\n",
    "plt.legend(loc=\"best\");"
   ]
  },
  {
   "cell_type": "markdown",
   "metadata": {},
   "source": [
    "* Males are more likely to die of covid compare to females."
   ]
  },
  {
   "cell_type": "code",
   "execution_count": null,
   "metadata": {
    "execution": {
     "iopub.execute_input": "2022-12-08T18:11:50.842977Z",
     "iopub.status.busy": "2022-12-08T18:11:50.842621Z",
     "iopub.status.idle": "2022-12-08T18:11:51.310942Z",
     "shell.execute_reply": "2022-12-08T18:11:51.309638Z",
     "shell.execute_reply.started": "2022-12-08T18:11:50.842944Z"
    }
   },
   "outputs": [],
   "source": [
    "ax=sns.countplot(df.OBESITY,hue=df.DEATH, palette=sns.color_palette([\"#7fffd4\",\"#a52a2a\"]))\n",
    "plt.title(\"Obesity-Death\",fontsize=18, color=\"red\")\n",
    "plt.bar_label(ax.containers[0])\n",
    "plt.bar_label(ax.containers[1])\n",
    "plt.legend(loc=\"best\");"
   ]
  },
  {
   "cell_type": "markdown",
   "metadata": {},
   "source": [
    "* Obese patients are more likely to die from covid compare to non-obese patients."
   ]
  },
  {
   "cell_type": "code",
   "execution_count": null,
   "metadata": {
    "execution": {
     "iopub.execute_input": "2022-12-08T18:11:51.313242Z",
     "iopub.status.busy": "2022-12-08T18:11:51.312639Z",
     "iopub.status.idle": "2022-12-08T18:11:55.022323Z",
     "shell.execute_reply": "2022-12-08T18:11:55.021012Z",
     "shell.execute_reply.started": "2022-12-08T18:11:51.313206Z"
    }
   },
   "outputs": [],
   "source": [
    "plt.figure(figsize=(18,15))\n",
    "sns.heatmap(df.corr(),annot=True, fmt=\".2f\")\n",
    "plt.title(\"Correlation Between Features\",fontsize=18,color=\"red\");"
   ]
  },
  {
   "cell_type": "markdown",
   "metadata": {},
   "source": [
    "# Future Selection\n",
    "* I will drop the features that have low correlation with \"DEATH\" feature."
   ]
  },
  {
   "cell_type": "code",
   "execution_count": null,
   "metadata": {
    "execution": {
     "iopub.execute_input": "2022-12-08T18:11:55.024751Z",
     "iopub.status.busy": "2022-12-08T18:11:55.024364Z",
     "iopub.status.idle": "2022-12-08T18:11:55.062136Z",
     "shell.execute_reply": "2022-12-08T18:11:55.060527Z",
     "shell.execute_reply.started": "2022-12-08T18:11:55.024718Z"
    }
   },
   "outputs": [],
   "source": [
    "unrelevant_columns = [\"SEX\",\"PREGNANT\",\"COPD\",\"ASTHMA\",\"INMSUPR\",\"OTHER_DISEASE\",\"CARDIOVASCULAR\",\n",
    "                      \"OBESITY\",\"TOBACCO\"]\n",
    "\n",
    "df.drop(columns=unrelevant_columns,inplace=True)"
   ]
  },
  {
   "cell_type": "code",
   "execution_count": null,
   "metadata": {
    "execution": {
     "iopub.execute_input": "2022-12-08T18:11:55.065318Z",
     "iopub.status.busy": "2022-12-08T18:11:55.064759Z",
     "iopub.status.idle": "2022-12-08T18:11:55.083087Z",
     "shell.execute_reply": "2022-12-08T18:11:55.08195Z",
     "shell.execute_reply.started": "2022-12-08T18:11:55.065226Z"
    }
   },
   "outputs": [],
   "source": [
    "df.head()"
   ]
  },
  {
   "cell_type": "markdown",
   "metadata": {},
   "source": [
    "### Preparing the categorical features which are not binary"
   ]
  },
  {
   "cell_type": "code",
   "execution_count": null,
   "metadata": {
    "execution": {
     "iopub.execute_input": "2022-12-08T18:11:55.086045Z",
     "iopub.status.busy": "2022-12-08T18:11:55.085625Z",
     "iopub.status.idle": "2022-12-08T18:11:55.301567Z",
     "shell.execute_reply": "2022-12-08T18:11:55.299789Z",
     "shell.execute_reply.started": "2022-12-08T18:11:55.08601Z"
    }
   },
   "outputs": [],
   "source": [
    "df = pd.get_dummies(df,columns=[\"MEDICAL_UNIT\",\"CLASIFFICATION_FINAL\"],drop_first=True)"
   ]
  },
  {
   "cell_type": "markdown",
   "metadata": {},
   "source": [
    "### Scaling the numeric feature"
   ]
  },
  {
   "cell_type": "code",
   "execution_count": null,
   "metadata": {
    "execution": {
     "iopub.execute_input": "2022-12-08T18:11:55.30419Z",
     "iopub.status.busy": "2022-12-08T18:11:55.303631Z",
     "iopub.status.idle": "2022-12-08T18:11:55.469787Z",
     "shell.execute_reply": "2022-12-08T18:11:55.468416Z",
     "shell.execute_reply.started": "2022-12-08T18:11:55.304136Z"
    }
   },
   "outputs": [],
   "source": [
    "from sklearn.preprocessing import RobustScaler\n",
    "scaler = RobustScaler()\n",
    "df.AGE = scaler.fit_transform(df.AGE.values.reshape(-1,1))"
   ]
  },
  {
   "cell_type": "markdown",
   "metadata": {},
   "source": [
    "### Determining the \"x\" and \"y\""
   ]
  },
  {
   "cell_type": "code",
   "execution_count": null,
   "metadata": {
    "execution": {
     "iopub.execute_input": "2022-12-08T18:11:55.472456Z",
     "iopub.status.busy": "2022-12-08T18:11:55.471546Z",
     "iopub.status.idle": "2022-12-08T18:11:55.530288Z",
     "shell.execute_reply": "2022-12-08T18:11:55.528369Z",
     "shell.execute_reply.started": "2022-12-08T18:11:55.472401Z"
    }
   },
   "outputs": [],
   "source": [
    "x = df.drop(columns=\"DEATH\")\n",
    "y = df[\"DEATH\"]"
   ]
  },
  {
   "cell_type": "markdown",
   "metadata": {},
   "source": [
    "# Train Test Split"
   ]
  },
  {
   "cell_type": "code",
   "execution_count": null,
   "metadata": {
    "execution": {
     "iopub.execute_input": "2022-12-08T18:11:55.538915Z",
     "iopub.status.busy": "2022-12-08T18:11:55.538486Z",
     "iopub.status.idle": "2022-12-08T18:11:56.085766Z",
     "shell.execute_reply": "2022-12-08T18:11:56.084364Z",
     "shell.execute_reply.started": "2022-12-08T18:11:55.538882Z"
    }
   },
   "outputs": [],
   "source": [
    "from sklearn.model_selection import train_test_split\n",
    "train_x, test_x, train_y, test_y = train_test_split(x,y, test_size=0.2, random_state=42)\n",
    "print(\"Train_x :\",train_x.shape)\n",
    "print(\"Test_x :\",test_x.shape)\n",
    "print(\"Train_y :\",train_y.shape)\n",
    "print(\"Test_y :\",test_y.shape)"
   ]
  },
  {
   "cell_type": "markdown",
   "metadata": {},
   "source": [
    "# Logistic Regression"
   ]
  },
  {
   "cell_type": "code",
   "execution_count": null,
   "metadata": {
    "execution": {
     "iopub.execute_input": "2022-12-08T18:11:56.088618Z",
     "iopub.status.busy": "2022-12-08T18:11:56.088086Z",
     "iopub.status.idle": "2022-12-08T18:12:13.593755Z",
     "shell.execute_reply": "2022-12-08T18:12:13.592403Z",
     "shell.execute_reply.started": "2022-12-08T18:11:56.088569Z"
    }
   },
   "outputs": [],
   "source": [
    "from sklearn.linear_model import LogisticRegression\n",
    "\n",
    "logreg = LogisticRegression()\n",
    "logreg.fit(train_x,train_y)\n",
    "print(\"Logistic Regression Accuracy :\",logreg.score(test_x, test_y))"
   ]
  },
  {
   "cell_type": "code",
   "execution_count": null,
   "metadata": {
    "execution": {
     "iopub.execute_input": "2022-12-08T18:12:13.596597Z",
     "iopub.status.busy": "2022-12-08T18:12:13.595734Z",
     "iopub.status.idle": "2022-12-08T18:12:13.785Z",
     "shell.execute_reply": "2022-12-08T18:12:13.783537Z",
     "shell.execute_reply.started": "2022-12-08T18:12:13.596546Z"
    }
   },
   "outputs": [],
   "source": [
    "from sklearn.metrics import f1_score\n",
    "\n",
    "print(\"Logistic Regression F1 Score :\",f1_score(test_y,logreg.predict(test_x),average=None))"
   ]
  },
  {
   "cell_type": "code",
   "execution_count": null,
   "metadata": {
    "execution": {
     "iopub.execute_input": "2022-12-08T18:12:13.786903Z",
     "iopub.status.busy": "2022-12-08T18:12:13.786448Z",
     "iopub.status.idle": "2022-12-08T18:12:14.363508Z",
     "shell.execute_reply": "2022-12-08T18:12:14.362441Z",
     "shell.execute_reply.started": "2022-12-08T18:12:13.786865Z"
    }
   },
   "outputs": [],
   "source": [
    "from sklearn.metrics import confusion_matrix\n",
    "\n",
    "sns.heatmap(confusion_matrix(test_y, logreg.predict(test_x)), annot=True, fmt=\".0f\")\n",
    "plt.title(\"Logistic Regression Confusion Matrix\",fontsize=18, color=\"red\");"
   ]
  },
  {
   "cell_type": "markdown",
   "metadata": {},
   "source": [
    "## Inference:\n",
    "* We got well accuracy with Logistic Regression.\n",
    "* But it can mislead us so we have to check the other metrics.\n",
    "* When we look at the F1 Score it says that we predicted the patients who survived well but we can't say the same thing for dead patients.\n",
    "* Also we see the same thing when we check the confusion matrix. This problem is based on imbalance dataset as i mentioned about it."
   ]
  },
  {
   "cell_type": "code",
   "execution_count": null,
   "metadata": {
    "execution": {
     "iopub.execute_input": "2022-12-08T18:12:14.366084Z",
     "iopub.status.busy": "2022-12-08T18:12:14.365328Z",
     "iopub.status.idle": "2022-12-08T18:12:14.701083Z",
     "shell.execute_reply": "2022-12-08T18:12:14.699606Z",
     "shell.execute_reply.started": "2022-12-08T18:12:14.366035Z"
    }
   },
   "outputs": [],
   "source": [
    "ax = sns.countplot(df.DEATH, palette=sns.cubehelix_palette(2))\n",
    "plt.bar_label(ax.containers[0])\n",
    "plt.title(\"Death Distribution\", fontsize=18,color=\"red\");"
   ]
  },
  {
   "cell_type": "markdown",
   "metadata": {},
   "source": [
    "# How To Solve Imbalance Dataset Problem\n",
    "* Loading More Datas\n",
    "* Changing The Perfomance Metrics\n",
    "* Resampling (Undersampling or Oversampling)\n",
    "* Changing The Algorithm\n",
    "* Penalized Models etc."
   ]
  },
  {
   "cell_type": "markdown",
   "metadata": {},
   "source": [
    "##### I am going to use Undersampling for this case because we already have too many patients.\n",
    "* Undersampling : Undersampling is a technique to balance uneven datasets by keeping all of the data in the minority class and decreasing the size of the majority class. \n",
    "* If we use Oversampling our row number will increase so this is too many rows for computer.\n",
    "* If i can't solve the problem with Undersampling i will use the others."
   ]
  },
  {
   "cell_type": "code",
   "execution_count": null,
   "metadata": {
    "execution": {
     "iopub.execute_input": "2022-12-08T18:12:14.702973Z",
     "iopub.status.busy": "2022-12-08T18:12:14.702588Z",
     "iopub.status.idle": "2022-12-08T18:12:15.470928Z",
     "shell.execute_reply": "2022-12-08T18:12:15.469535Z",
     "shell.execute_reply.started": "2022-12-08T18:12:14.702934Z"
    }
   },
   "outputs": [],
   "source": [
    "from imblearn.under_sampling import RandomUnderSampler\n",
    "\n",
    "rus = RandomUnderSampler(random_state=0)\n",
    "x_resampled,y_resampled = rus.fit_resample(x,y)"
   ]
  },
  {
   "cell_type": "code",
   "execution_count": null,
   "metadata": {
    "execution": {
     "iopub.execute_input": "2022-12-08T18:12:15.473546Z",
     "iopub.status.busy": "2022-12-08T18:12:15.473032Z",
     "iopub.status.idle": "2022-12-08T18:12:15.71471Z",
     "shell.execute_reply": "2022-12-08T18:12:15.713476Z",
     "shell.execute_reply.started": "2022-12-08T18:12:15.473504Z"
    }
   },
   "outputs": [],
   "source": [
    "ax = sns.countplot(y_resampled, palette=sns.cubehelix_palette(2))\n",
    "plt.bar_label(ax.containers[0])\n",
    "plt.title(\"Death Distribution\", fontsize=18,color=\"red\");"
   ]
  },
  {
   "cell_type": "markdown",
   "metadata": {},
   "source": [
    "# Train Test Split After Undersampling"
   ]
  },
  {
   "cell_type": "code",
   "execution_count": null,
   "metadata": {
    "execution": {
     "iopub.execute_input": "2022-12-08T18:12:15.71704Z",
     "iopub.status.busy": "2022-12-08T18:12:15.716667Z",
     "iopub.status.idle": "2022-12-08T18:12:15.777031Z",
     "shell.execute_reply": "2022-12-08T18:12:15.775542Z",
     "shell.execute_reply.started": "2022-12-08T18:12:15.717008Z"
    }
   },
   "outputs": [],
   "source": [
    "train_x, test_x, train_y, test_y = train_test_split(x_resampled,y_resampled, test_size=0.2, random_state=42)\n",
    "print(\"Train_x :\",train_x.shape)\n",
    "print(\"Test_x :\",test_x.shape)\n",
    "print(\"Train_y :\",train_y.shape)\n",
    "print(\"Test_y :\",test_y.shape)"
   ]
  },
  {
   "cell_type": "markdown",
   "metadata": {},
   "source": [
    "# Logistic Regression After Undersampling"
   ]
  },
  {
   "cell_type": "code",
   "execution_count": null,
   "metadata": {
    "execution": {
     "iopub.execute_input": "2022-12-08T18:12:15.779116Z",
     "iopub.status.busy": "2022-12-08T18:12:15.778707Z",
     "iopub.status.idle": "2022-12-08T18:12:18.363312Z",
     "shell.execute_reply": "2022-12-08T18:12:18.360174Z",
     "shell.execute_reply.started": "2022-12-08T18:12:15.77908Z"
    }
   },
   "outputs": [],
   "source": [
    "logreg = LogisticRegression()\n",
    "logreg.fit(train_x,train_y)\n",
    "print(\"Logistic Regression Accuracy :\",logreg.score(test_x, test_y))"
   ]
  },
  {
   "cell_type": "code",
   "execution_count": null,
   "metadata": {
    "execution": {
     "iopub.execute_input": "2022-12-08T18:12:18.368871Z",
     "iopub.status.busy": "2022-12-08T18:12:18.365762Z",
     "iopub.status.idle": "2022-12-08T18:12:18.451796Z",
     "shell.execute_reply": "2022-12-08T18:12:18.449775Z",
     "shell.execute_reply.started": "2022-12-08T18:12:18.368796Z"
    }
   },
   "outputs": [],
   "source": [
    "print(\"Logistic Regression F1 Score :\",f1_score(test_y,logreg.predict(test_x),average=None))"
   ]
  },
  {
   "cell_type": "code",
   "execution_count": null,
   "metadata": {
    "execution": {
     "iopub.execute_input": "2022-12-08T18:12:18.45498Z",
     "iopub.status.busy": "2022-12-08T18:12:18.454157Z",
     "iopub.status.idle": "2022-12-08T18:12:18.901629Z",
     "shell.execute_reply": "2022-12-08T18:12:18.900146Z",
     "shell.execute_reply.started": "2022-12-08T18:12:18.454911Z"
    }
   },
   "outputs": [],
   "source": [
    "sns.heatmap(confusion_matrix(test_y, logreg.predict(test_x)), annot=True, fmt=\".0f\")\n",
    "plt.title(\"Logistic Regression Confusion Matrix\",fontsize=18, color=\"red\");"
   ]
  },
  {
   "cell_type": "markdown",
   "metadata": {},
   "source": [
    "* We solved the problem with Undersampling. We also could've used Oversampling and probably we would get better accuracy but i think it would be so tiring for computer."
   ]
  },
  {
   "cell_type": "markdown",
   "metadata": {},
   "source": [
    "## Logistic Regression Curve"
   ]
  },
  {
   "cell_type": "code",
   "execution_count": null,
   "metadata": {
    "execution": {
     "iopub.execute_input": "2022-12-08T18:12:18.904141Z",
     "iopub.status.busy": "2022-12-08T18:12:18.903556Z",
     "iopub.status.idle": "2022-12-08T18:12:19.176008Z",
     "shell.execute_reply": "2022-12-08T18:12:19.174653Z",
     "shell.execute_reply.started": "2022-12-08T18:12:18.904087Z"
    }
   },
   "outputs": [],
   "source": [
    "from sklearn.metrics import roc_curve\n",
    "test_y = test_y.replace({2:1,1:0})\n",
    "# Probabilities\n",
    "logreg_pred_proba = logreg.predict_proba(test_x)\n",
    "\n",
    "fpr, tpr, thresholds = roc_curve(test_y, logreg_pred_proba[:,1])\n",
    "plt.plot([0,1],[0,1],\"k--\")\n",
    "plt.plot(fpr, tpr, label = \"Logistic Regression\")\n",
    "plt.xlabel(\"False Positive Rate\")\n",
    "plt.ylabel(\"True Positive Rate\")\n",
    "plt.title(\"Logistic Regression ROC Curve\")\n",
    "plt.show()"
   ]
  },
  {
   "cell_type": "markdown",
   "metadata": {},
   "source": [
    "# Conclusion\n",
    "* In this project i predicted \"Death\" situation with %90 accuracy.\n",
    "* I just used one algorithm Logistic Regression.\n",
    "* The important point in this project was solving the imbalance dataset problem. I figured it out with Undersampling method.\n",
    "* If you found this notebook beneficial please upvote it and follow me. Thanks..."
   ]
  }
 ],
 "metadata": {
  "kaggle": {
   "accelerator": "none",
   "dataSources": [
    {
     "datasetId": 2633044,
     "sourceId": 4504149,
     "sourceType": "datasetVersion"
    }
   ],
   "dockerImageVersionId": 30301,
   "isGpuEnabled": false,
   "isInternetEnabled": false,
   "language": "python",
   "sourceType": "notebook"
  },
  "kernelspec": {
   "display_name": "Python 3",
   "language": "python",
   "name": "python3"
  },
  "language_info": {
   "codemirror_mode": {
    "name": "ipython",
    "version": 3
   },
   "file_extension": ".py",
   "mimetype": "text/x-python",
   "name": "python",
   "nbconvert_exporter": "python",
   "pygments_lexer": "ipython3",
   "version": "3.6.4"
  }
 },
 "nbformat": 4,
 "nbformat_minor": 4
}
